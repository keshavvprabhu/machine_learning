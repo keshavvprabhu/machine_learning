{
  "nbformat": 4,
  "nbformat_minor": 0,
  "metadata": {
    "colab": {
      "name": "SVMClassification.ipynb",
      "provenance": [],
      "collapsed_sections": [],
      "authorship_tag": "ABX9TyOLSfXQE++of48lF7KY+999",
      "include_colab_link": true
    },
    "kernelspec": {
      "name": "python3",
      "display_name": "Python 3"
    },
    "language_info": {
      "name": "python"
    }
  },
  "cells": [
    {
      "cell_type": "markdown",
      "metadata": {
        "id": "view-in-github",
        "colab_type": "text"
      },
      "source": [
        "<a href=\"https://colab.research.google.com/github/keshavvprabhu/machine_learning/blob/main/SVMClassification.ipynb\" target=\"_parent\"><img src=\"https://colab.research.google.com/assets/colab-badge.svg\" alt=\"Open In Colab\"/></a>"
      ]
    },
    {
      "cell_type": "markdown",
      "metadata": {
        "id": "shS3up-Vj-Kd"
      },
      "source": [
        "# SVM Classifier\n",
        "Support Vector Machine Classifier"
      ]
    },
    {
      "cell_type": "markdown",
      "metadata": {
        "id": "7Cq6wlhuj-HF"
      },
      "source": [
        "## Import Libraries"
      ]
    },
    {
      "cell_type": "code",
      "metadata": {
        "id": "_c2s2q9NlM55"
      },
      "source": [
        "import numpy as np\n",
        "import pandas as pd\n",
        "import matplotlib.pyplot as plt"
      ],
      "execution_count": null,
      "outputs": []
    },
    {
      "cell_type": "markdown",
      "metadata": {
        "id": "AUN6Y2Bwj-Db"
      },
      "source": [
        "## Import Dataset"
      ]
    },
    {
      "cell_type": "code",
      "metadata": {
        "colab": {
          "base_uri": "https://localhost:8080/",
          "height": 422
        },
        "id": "9MY8hxu0lRzI",
        "outputId": "29eaeb70-4372-49a6-a5b4-f5be8fab540f"
      },
      "source": [
        "dataset = pd.read_csv(\"Social_Network_Ads.csv\")\n",
        "dataset"
      ],
      "execution_count": null,
      "outputs": [
        {
          "output_type": "execute_result",
          "data": {
            "text/html": [
              "<div>\n",
              "<style scoped>\n",
              "    .dataframe tbody tr th:only-of-type {\n",
              "        vertical-align: middle;\n",
              "    }\n",
              "\n",
              "    .dataframe tbody tr th {\n",
              "        vertical-align: top;\n",
              "    }\n",
              "\n",
              "    .dataframe thead th {\n",
              "        text-align: right;\n",
              "    }\n",
              "</style>\n",
              "<table border=\"1\" class=\"dataframe\">\n",
              "  <thead>\n",
              "    <tr style=\"text-align: right;\">\n",
              "      <th></th>\n",
              "      <th>Age</th>\n",
              "      <th>EstimatedSalary</th>\n",
              "      <th>Purchased</th>\n",
              "    </tr>\n",
              "  </thead>\n",
              "  <tbody>\n",
              "    <tr>\n",
              "      <th>0</th>\n",
              "      <td>19</td>\n",
              "      <td>19000</td>\n",
              "      <td>0</td>\n",
              "    </tr>\n",
              "    <tr>\n",
              "      <th>1</th>\n",
              "      <td>35</td>\n",
              "      <td>20000</td>\n",
              "      <td>0</td>\n",
              "    </tr>\n",
              "    <tr>\n",
              "      <th>2</th>\n",
              "      <td>26</td>\n",
              "      <td>43000</td>\n",
              "      <td>0</td>\n",
              "    </tr>\n",
              "    <tr>\n",
              "      <th>3</th>\n",
              "      <td>27</td>\n",
              "      <td>57000</td>\n",
              "      <td>0</td>\n",
              "    </tr>\n",
              "    <tr>\n",
              "      <th>4</th>\n",
              "      <td>19</td>\n",
              "      <td>76000</td>\n",
              "      <td>0</td>\n",
              "    </tr>\n",
              "    <tr>\n",
              "      <th>...</th>\n",
              "      <td>...</td>\n",
              "      <td>...</td>\n",
              "      <td>...</td>\n",
              "    </tr>\n",
              "    <tr>\n",
              "      <th>395</th>\n",
              "      <td>46</td>\n",
              "      <td>41000</td>\n",
              "      <td>1</td>\n",
              "    </tr>\n",
              "    <tr>\n",
              "      <th>396</th>\n",
              "      <td>51</td>\n",
              "      <td>23000</td>\n",
              "      <td>1</td>\n",
              "    </tr>\n",
              "    <tr>\n",
              "      <th>397</th>\n",
              "      <td>50</td>\n",
              "      <td>20000</td>\n",
              "      <td>1</td>\n",
              "    </tr>\n",
              "    <tr>\n",
              "      <th>398</th>\n",
              "      <td>36</td>\n",
              "      <td>33000</td>\n",
              "      <td>0</td>\n",
              "    </tr>\n",
              "    <tr>\n",
              "      <th>399</th>\n",
              "      <td>49</td>\n",
              "      <td>36000</td>\n",
              "      <td>1</td>\n",
              "    </tr>\n",
              "  </tbody>\n",
              "</table>\n",
              "<p>400 rows × 3 columns</p>\n",
              "</div>"
            ],
            "text/plain": [
              "     Age  EstimatedSalary  Purchased\n",
              "0     19            19000          0\n",
              "1     35            20000          0\n",
              "2     26            43000          0\n",
              "3     27            57000          0\n",
              "4     19            76000          0\n",
              "..   ...              ...        ...\n",
              "395   46            41000          1\n",
              "396   51            23000          1\n",
              "397   50            20000          1\n",
              "398   36            33000          0\n",
              "399   49            36000          1\n",
              "\n",
              "[400 rows x 3 columns]"
            ]
          },
          "metadata": {},
          "execution_count": 48
        }
      ]
    },
    {
      "cell_type": "code",
      "metadata": {
        "id": "SeBFSXmJl1P7"
      },
      "source": [
        "X = dataset.iloc[:,:-1].values\n",
        "y = dataset.iloc[:,-1].values"
      ],
      "execution_count": null,
      "outputs": []
    },
    {
      "cell_type": "markdown",
      "metadata": {
        "id": "8QLCqJZHj-AO"
      },
      "source": [
        "## Splitting the dataset into Training Set and Test Set"
      ]
    },
    {
      "cell_type": "code",
      "metadata": {
        "id": "SGODxmLRliLx"
      },
      "source": [
        "from sklearn.model_selection import train_test_split\n",
        "X_train, X_test, y_train, y_test = train_test_split(X,y, test_size = 0.20, random_state = 0)"
      ],
      "execution_count": null,
      "outputs": []
    },
    {
      "cell_type": "code",
      "metadata": {
        "colab": {
          "base_uri": "https://localhost:8080/"
        },
        "id": "lJDONcLQo4-3",
        "outputId": "e8443fe4-a6e1-4575-8559-06d099f2bbf4"
      },
      "source": [
        "X_train"
      ],
      "execution_count": null,
      "outputs": [
        {
          "output_type": "execute_result",
          "data": {
            "text/plain": [
              "array([[    58, 144000],\n",
              "       [    59,  83000],\n",
              "       [    24,  55000],\n",
              "       [    26,  35000],\n",
              "       [    58,  38000],\n",
              "       [    42,  80000],\n",
              "       [    40,  75000],\n",
              "       [    59, 130000],\n",
              "       [    46,  41000],\n",
              "       [    41,  60000],\n",
              "       [    42,  64000],\n",
              "       [    37, 146000],\n",
              "       [    23,  48000],\n",
              "       [    25,  33000],\n",
              "       [    24,  84000],\n",
              "       [    27,  96000],\n",
              "       [    23,  63000],\n",
              "       [    48,  33000],\n",
              "       [    48,  90000],\n",
              "       [    42, 104000],\n",
              "       [    44,  39000],\n",
              "       [    32, 120000],\n",
              "       [    38,  50000],\n",
              "       [    32, 135000],\n",
              "       [    52,  21000],\n",
              "       [    53, 104000],\n",
              "       [    39,  42000],\n",
              "       [    38,  61000],\n",
              "       [    36,  50000],\n",
              "       [    36,  63000],\n",
              "       [    35,  25000],\n",
              "       [    35,  50000],\n",
              "       [    42,  73000],\n",
              "       [    47,  49000],\n",
              "       [    59,  29000],\n",
              "       [    49,  65000],\n",
              "       [    45, 131000],\n",
              "       [    31,  89000],\n",
              "       [    46,  82000],\n",
              "       [    47,  51000],\n",
              "       [    26,  15000],\n",
              "       [    60, 102000],\n",
              "       [    38, 112000],\n",
              "       [    40, 107000],\n",
              "       [    42,  53000],\n",
              "       [    35,  59000],\n",
              "       [    48,  41000],\n",
              "       [    48, 134000],\n",
              "       [    38, 113000],\n",
              "       [    29, 148000],\n",
              "       [    26,  15000],\n",
              "       [    60,  42000],\n",
              "       [    24,  19000],\n",
              "       [    42, 149000],\n",
              "       [    46,  96000],\n",
              "       [    28,  59000],\n",
              "       [    39,  96000],\n",
              "       [    28,  89000],\n",
              "       [    41,  72000],\n",
              "       [    45,  26000],\n",
              "       [    33,  69000],\n",
              "       [    20,  82000],\n",
              "       [    31,  74000],\n",
              "       [    42,  80000],\n",
              "       [    35,  72000],\n",
              "       [    33, 149000],\n",
              "       [    40,  71000],\n",
              "       [    51, 146000],\n",
              "       [    46,  79000],\n",
              "       [    35,  75000],\n",
              "       [    38,  51000],\n",
              "       [    36,  75000],\n",
              "       [    37,  78000],\n",
              "       [    38,  61000],\n",
              "       [    60, 108000],\n",
              "       [    20,  82000],\n",
              "       [    57,  74000],\n",
              "       [    42,  65000],\n",
              "       [    26,  80000],\n",
              "       [    46, 117000],\n",
              "       [    35,  61000],\n",
              "       [    21,  68000],\n",
              "       [    28,  44000],\n",
              "       [    41,  87000],\n",
              "       [    37,  33000],\n",
              "       [    27,  90000],\n",
              "       [    39,  42000],\n",
              "       [    28, 123000],\n",
              "       [    31, 118000],\n",
              "       [    25,  87000],\n",
              "       [    35,  71000],\n",
              "       [    37,  70000],\n",
              "       [    35,  39000],\n",
              "       [    47,  23000],\n",
              "       [    35, 147000],\n",
              "       [    48, 138000],\n",
              "       [    26,  86000],\n",
              "       [    25,  79000],\n",
              "       [    52, 138000],\n",
              "       [    51,  23000],\n",
              "       [    35,  60000],\n",
              "       [    33, 113000],\n",
              "       [    30, 107000],\n",
              "       [    48,  33000],\n",
              "       [    41,  80000],\n",
              "       [    48,  96000],\n",
              "       [    31,  18000],\n",
              "       [    31,  71000],\n",
              "       [    43, 129000],\n",
              "       [    59,  76000],\n",
              "       [    18,  44000],\n",
              "       [    36, 118000],\n",
              "       [    42,  90000],\n",
              "       [    47,  30000],\n",
              "       [    26,  43000],\n",
              "       [    40,  78000],\n",
              "       [    46,  59000],\n",
              "       [    59,  42000],\n",
              "       [    46,  74000],\n",
              "       [    35,  91000],\n",
              "       [    28,  59000],\n",
              "       [    40,  57000],\n",
              "       [    59, 143000],\n",
              "       [    57,  26000],\n",
              "       [    52,  38000],\n",
              "       [    47, 113000],\n",
              "       [    53, 143000],\n",
              "       [    35,  27000],\n",
              "       [    58, 101000],\n",
              "       [    45,  45000],\n",
              "       [    23,  82000],\n",
              "       [    46,  23000],\n",
              "       [    42,  65000],\n",
              "       [    28,  84000],\n",
              "       [    38,  59000],\n",
              "       [    26,  84000],\n",
              "       [    29,  28000],\n",
              "       [    37,  71000],\n",
              "       [    22,  55000],\n",
              "       [    48,  35000],\n",
              "       [    49,  28000],\n",
              "       [    38,  65000],\n",
              "       [    27,  17000],\n",
              "       [    46,  28000],\n",
              "       [    48, 141000],\n",
              "       [    26,  17000],\n",
              "       [    35,  97000],\n",
              "       [    39,  59000],\n",
              "       [    24,  27000],\n",
              "       [    32,  18000],\n",
              "       [    46,  88000],\n",
              "       [    35,  58000],\n",
              "       [    56,  60000],\n",
              "       [    47,  34000],\n",
              "       [    40,  72000],\n",
              "       [    32, 100000],\n",
              "       [    19,  21000],\n",
              "       [    25,  90000],\n",
              "       [    35,  88000],\n",
              "       [    28,  32000],\n",
              "       [    50,  20000],\n",
              "       [    40,  59000],\n",
              "       [    50,  44000],\n",
              "       [    35,  72000],\n",
              "       [    40, 142000],\n",
              "       [    46,  32000],\n",
              "       [    39,  71000],\n",
              "       [    20,  74000],\n",
              "       [    29,  75000],\n",
              "       [    31,  76000],\n",
              "       [    47,  25000],\n",
              "       [    40,  61000],\n",
              "       [    34, 112000],\n",
              "       [    38,  80000],\n",
              "       [    42,  75000],\n",
              "       [    47,  47000],\n",
              "       [    39,  75000],\n",
              "       [    19,  25000],\n",
              "       [    37,  80000],\n",
              "       [    36,  60000],\n",
              "       [    41,  52000],\n",
              "       [    36, 125000],\n",
              "       [    48,  29000],\n",
              "       [    36, 126000],\n",
              "       [    51, 134000],\n",
              "       [    27,  57000],\n",
              "       [    38,  71000],\n",
              "       [    39,  61000],\n",
              "       [    22,  27000],\n",
              "       [    33,  60000],\n",
              "       [    48,  74000],\n",
              "       [    58,  23000],\n",
              "       [    53,  72000],\n",
              "       [    32, 117000],\n",
              "       [    54,  70000],\n",
              "       [    30,  80000],\n",
              "       [    58,  95000],\n",
              "       [    26,  52000],\n",
              "       [    45,  79000],\n",
              "       [    24,  55000],\n",
              "       [    40,  75000],\n",
              "       [    33,  28000],\n",
              "       [    44, 139000],\n",
              "       [    22,  18000],\n",
              "       [    33,  51000],\n",
              "       [    43, 133000],\n",
              "       [    24,  32000],\n",
              "       [    46,  22000],\n",
              "       [    35,  55000],\n",
              "       [    54, 104000],\n",
              "       [    48, 119000],\n",
              "       [    35,  53000],\n",
              "       [    37, 144000],\n",
              "       [    23,  66000],\n",
              "       [    37, 137000],\n",
              "       [    31,  58000],\n",
              "       [    33,  41000],\n",
              "       [    45,  22000],\n",
              "       [    30,  15000],\n",
              "       [    19,  19000],\n",
              "       [    49,  74000],\n",
              "       [    39, 122000],\n",
              "       [    35,  73000],\n",
              "       [    39,  71000],\n",
              "       [    24,  23000],\n",
              "       [    41,  72000],\n",
              "       [    29,  83000],\n",
              "       [    54,  26000],\n",
              "       [    35,  44000],\n",
              "       [    37,  75000],\n",
              "       [    29,  47000],\n",
              "       [    31,  68000],\n",
              "       [    42,  54000],\n",
              "       [    30, 135000],\n",
              "       [    52, 114000],\n",
              "       [    50,  36000],\n",
              "       [    56, 133000],\n",
              "       [    29,  61000],\n",
              "       [    30,  89000],\n",
              "       [    26,  16000],\n",
              "       [    33,  31000],\n",
              "       [    41,  72000],\n",
              "       [    36,  33000],\n",
              "       [    55, 125000],\n",
              "       [    48, 131000],\n",
              "       [    41,  71000],\n",
              "       [    30,  62000],\n",
              "       [    37,  72000],\n",
              "       [    41,  63000],\n",
              "       [    58,  47000],\n",
              "       [    30, 116000],\n",
              "       [    20,  49000],\n",
              "       [    37,  74000],\n",
              "       [    41,  59000],\n",
              "       [    49,  89000],\n",
              "       [    28,  79000],\n",
              "       [    53,  82000],\n",
              "       [    40,  57000],\n",
              "       [    60,  34000],\n",
              "       [    35, 108000],\n",
              "       [    21,  72000],\n",
              "       [    38,  71000],\n",
              "       [    39, 106000],\n",
              "       [    37,  57000],\n",
              "       [    26,  72000],\n",
              "       [    35,  23000],\n",
              "       [    54, 108000],\n",
              "       [    30,  17000],\n",
              "       [    39, 134000],\n",
              "       [    29,  43000],\n",
              "       [    33,  43000],\n",
              "       [    35,  38000],\n",
              "       [    41,  45000],\n",
              "       [    41,  72000],\n",
              "       [    39, 134000],\n",
              "       [    27, 137000],\n",
              "       [    21,  16000],\n",
              "       [    26,  32000],\n",
              "       [    31,  66000],\n",
              "       [    39,  73000],\n",
              "       [    41,  79000],\n",
              "       [    47,  50000],\n",
              "       [    41,  30000],\n",
              "       [    37,  93000],\n",
              "       [    60,  46000],\n",
              "       [    25,  22000],\n",
              "       [    28,  37000],\n",
              "       [    38,  55000],\n",
              "       [    36,  54000],\n",
              "       [    20,  36000],\n",
              "       [    56, 104000],\n",
              "       [    40,  57000],\n",
              "       [    42, 108000],\n",
              "       [    20,  23000],\n",
              "       [    40,  65000],\n",
              "       [    47,  20000],\n",
              "       [    18,  86000],\n",
              "       [    35,  79000],\n",
              "       [    57,  33000],\n",
              "       [    34,  72000],\n",
              "       [    49,  39000],\n",
              "       [    27,  31000],\n",
              "       [    19,  70000],\n",
              "       [    39,  79000],\n",
              "       [    26,  81000],\n",
              "       [    25,  80000],\n",
              "       [    28,  85000],\n",
              "       [    55,  39000],\n",
              "       [    50,  88000],\n",
              "       [    49,  88000],\n",
              "       [    52, 150000],\n",
              "       [    35,  65000],\n",
              "       [    42,  54000],\n",
              "       [    34,  43000],\n",
              "       [    37,  52000],\n",
              "       [    48,  30000],\n",
              "       [    29,  43000],\n",
              "       [    36,  52000],\n",
              "       [    27,  54000],\n",
              "       [    26, 118000]])"
            ]
          },
          "metadata": {},
          "execution_count": 51
        }
      ]
    },
    {
      "cell_type": "markdown",
      "metadata": {
        "id": "0k-xQhJEj91j"
      },
      "source": [
        "## Feature Scaling"
      ]
    },
    {
      "cell_type": "code",
      "metadata": {
        "id": "Nwx-M_uomG4T"
      },
      "source": [
        "from sklearn.preprocessing import StandardScaler\n",
        "sc = StandardScaler()\n",
        "X_train = sc.fit_transform(X_train)\n",
        "X_test = sc.fit_transform(X_test)\n"
      ],
      "execution_count": null,
      "outputs": []
    },
    {
      "cell_type": "markdown",
      "metadata": {
        "id": "tjgW9JHNj9yP"
      },
      "source": [
        "## Training the SVM Model"
      ]
    },
    {
      "cell_type": "code",
      "metadata": {
        "colab": {
          "base_uri": "https://localhost:8080/"
        },
        "id": "jsSNLzb9o_rZ",
        "outputId": "e49de169-dfaf-4316-9ea6-d72f50cf7cd3"
      },
      "source": [
        "from sklearn.svm import SVC\n",
        "classifier = SVC(kernel='rbf', random_state=0)\n",
        "classifier.fit(X_train, y_train)"
      ],
      "execution_count": null,
      "outputs": [
        {
          "output_type": "execute_result",
          "data": {
            "text/plain": [
              "SVC(C=1.0, break_ties=False, cache_size=200, class_weight=None, coef0=0.0,\n",
              "    decision_function_shape='ovr', degree=3, gamma='scale', kernel='rbf',\n",
              "    max_iter=-1, probability=False, random_state=0, shrinking=True, tol=0.001,\n",
              "    verbose=False)"
            ]
          },
          "metadata": {},
          "execution_count": 53
        }
      ]
    },
    {
      "cell_type": "markdown",
      "metadata": {
        "id": "SBKLf6_Rj9wY"
      },
      "source": [
        "## Predicting New Result"
      ]
    },
    {
      "cell_type": "code",
      "metadata": {
        "colab": {
          "base_uri": "https://localhost:8080/"
        },
        "id": "GCQF8u0jrZYv",
        "outputId": "c57c606a-1cf3-407c-a01f-8f02f7772860"
      },
      "source": [
        "print(classifier.predict(sc.transform([[30, 87000]])))"
      ],
      "execution_count": null,
      "outputs": [
        {
          "output_type": "stream",
          "name": "stdout",
          "text": [
            "[0]\n"
          ]
        }
      ]
    },
    {
      "cell_type": "markdown",
      "metadata": {
        "id": "UIn3_UwPj9sx"
      },
      "source": [
        "## Predicting Test Set Result"
      ]
    },
    {
      "cell_type": "code",
      "metadata": {
        "colab": {
          "base_uri": "https://localhost:8080/"
        },
        "id": "IAD6wMrWrd0A",
        "outputId": "745f24be-3a1a-4775-f500-a089f8eda4b7"
      },
      "source": [
        "y_pred = classifier.predict(X_test)\n",
        "print(np.concatenate((y_test.reshape(len(y_test),1), y_pred.reshape(len(y_pred),1)),1))"
      ],
      "execution_count": null,
      "outputs": [
        {
          "output_type": "stream",
          "name": "stdout",
          "text": [
            "[[0 0]\n",
            " [0 0]\n",
            " [0 0]\n",
            " [0 0]\n",
            " [0 0]\n",
            " [0 0]\n",
            " [0 0]\n",
            " [1 1]\n",
            " [0 0]\n",
            " [0 1]\n",
            " [0 0]\n",
            " [0 0]\n",
            " [0 0]\n",
            " [0 0]\n",
            " [0 0]\n",
            " [0 1]\n",
            " [0 0]\n",
            " [0 0]\n",
            " [1 1]\n",
            " [0 0]\n",
            " [0 0]\n",
            " [1 1]\n",
            " [0 0]\n",
            " [1 1]\n",
            " [0 0]\n",
            " [1 1]\n",
            " [0 0]\n",
            " [0 0]\n",
            " [0 0]\n",
            " [0 0]\n",
            " [0 0]\n",
            " [1 0]\n",
            " [1 1]\n",
            " [0 0]\n",
            " [0 0]\n",
            " [0 0]\n",
            " [0 0]\n",
            " [0 0]\n",
            " [0 0]\n",
            " [1 1]\n",
            " [0 0]\n",
            " [0 0]\n",
            " [0 0]\n",
            " [0 0]\n",
            " [1 1]\n",
            " [0 0]\n",
            " [0 0]\n",
            " [1 1]\n",
            " [0 0]\n",
            " [1 1]\n",
            " [1 1]\n",
            " [0 0]\n",
            " [0 0]\n",
            " [0 1]\n",
            " [1 1]\n",
            " [1 1]\n",
            " [0 0]\n",
            " [0 0]\n",
            " [1 1]\n",
            " [0 0]\n",
            " [0 0]\n",
            " [1 1]\n",
            " [0 0]\n",
            " [1 1]\n",
            " [0 0]\n",
            " [1 1]\n",
            " [0 0]\n",
            " [0 0]\n",
            " [0 0]\n",
            " [0 0]\n",
            " [1 1]\n",
            " [0 0]\n",
            " [0 0]\n",
            " [1 1]\n",
            " [0 0]\n",
            " [0 0]\n",
            " [0 1]\n",
            " [0 0]\n",
            " [1 1]\n",
            " [1 1]]\n"
          ]
        }
      ]
    },
    {
      "cell_type": "markdown",
      "metadata": {
        "id": "6IhyzL4Ck9a6"
      },
      "source": [
        "## Confusion Matrix"
      ]
    },
    {
      "cell_type": "code",
      "metadata": {
        "colab": {
          "base_uri": "https://localhost:8080/"
        },
        "id": "ITX6YCWusLYg",
        "outputId": "7d7990df-e2ce-4c07-ea61-2da5bb944ef5"
      },
      "source": [
        "from sklearn.metrics import confusion_matrix, accuracy_score\n",
        "cm = confusion_matrix(y_test, y_pred)\n",
        "print(cm)\n",
        "accuracy_score(y_test, y_pred)"
      ],
      "execution_count": null,
      "outputs": [
        {
          "output_type": "stream",
          "name": "stdout",
          "text": [
            "[[54  4]\n",
            " [ 1 21]]\n"
          ]
        },
        {
          "output_type": "execute_result",
          "data": {
            "text/plain": [
              "0.9375"
            ]
          },
          "metadata": {},
          "execution_count": 56
        }
      ]
    },
    {
      "cell_type": "markdown",
      "metadata": {
        "id": "ufKUrcfglAvI"
      },
      "source": [
        "## Visualizing Training Set Results"
      ]
    },
    {
      "cell_type": "code",
      "metadata": {
        "colab": {
          "base_uri": "https://localhost:8080/",
          "height": 351
        },
        "id": "Zr6NKTYjtQ5X",
        "outputId": "4ff6c350-6c53-48ef-efb3-149282275655"
      },
      "source": [
        "from matplotlib.colors import ListedColormap\n",
        "X_set, y_set = sc.inverse_transform(X_train), y_train\n",
        "X1, X2 = np.meshgrid(np.arange(start=X_set[:,0].min()-10, stop=X_set[:,0].max()+10, step = 0.25),\n",
        "                     np.arange(start=X_set[:,1].min()-1000, stop=X_set[:,1].max()+1000, step=0.25))\n",
        "plt.contourf(X1, X2, classifier.predict(sc.transform(np.array([X1.ravel(), X2.ravel()]).T)).reshape(X1.shape), alpha = 0.75, cmap = ListedColormap(('red', 'green')))\n",
        "plt.xlim(X1.min(), X1.max())\n",
        "plt.ylim(X2.min(), X2.max())\n",
        "for i, j in enumerate(np.unique(y_set)):\n",
        "  plt.scatter(X_set[y_set==j,0], X_set[y_set ==j,1], c = ListedColormap(('red', 'green'))(i), label=j)\n",
        "\n",
        "plt.title(\"Logistic Regression (Training Set)\")\n",
        "plt.xlabel(\"Age\")\n",
        "plt.ylabel(\"Estimated Salary\")\n",
        "plt.legend()\n",
        "plt.show()"
      ],
      "execution_count": null,
      "outputs": [
        {
          "output_type": "stream",
          "name": "stderr",
          "text": [
            "*c* argument looks like a single numeric RGB or RGBA sequence, which should be avoided as value-mapping will have precedence in case its length matches with *x* & *y*.  Please use the *color* keyword-argument or provide a 2-D array with a single row if you intend to specify the same RGB or RGBA value for all points.\n",
            "*c* argument looks like a single numeric RGB or RGBA sequence, which should be avoided as value-mapping will have precedence in case its length matches with *x* & *y*.  Please use the *color* keyword-argument or provide a 2-D array with a single row if you intend to specify the same RGB or RGBA value for all points.\n"
          ]
        },
        {
          "output_type": "display_data",
          "data": {
            "image/png": "[encoded data removed]",
            "text/plain": [
              "<Figure size 432x288 with 1 Axes>"
            ]
          },
          "metadata": {
            "needs_background": "light"
          }
        }
      ]
    },
    {
      "cell_type": "markdown",
      "metadata": {
        "id": "sX3ejsCMlEcZ"
      },
      "source": [
        "## Visualizing Test Set Results"
      ]
    },
    {
      "cell_type": "code",
      "metadata": {
        "id": "YZ5UjwHKirdW",
        "colab": {
          "base_uri": "https://localhost:8080/",
          "height": 351
        },
        "outputId": "be767a76-1ce8-45e9-8236-b4dc66481bd0"
      },
      "source": [
        "from matplotlib.colors import ListedColormap\n",
        "X_set, y_set = sc.inverse_transform(X_test), y_test\n",
        "X1, X2 = np.meshgrid(np.arange(start=X_set[:,0].min()-10, stop=X_set[:,0].max()+10, step = 0.25),\n",
        "                     np.arange(start=X_set[:,1].min()-1000, stop=X_set[:,1].max()+1000, step=0.25))\n",
        "plt.contourf(X1, X2, classifier.predict(sc.transform(np.array([X1.ravel(), X2.ravel()]).T)).reshape(X1.shape), alpha = 0.75, cmap = ListedColormap(('red', 'green')))\n",
        "plt.xlim(X1.min(), X1.max())\n",
        "plt.ylim(X2.min(), X2.max())\n",
        "for i, j in enumerate(np.unique(y_set)):\n",
        "  plt.scatter(X_set[y_set==j,0], X_set[y_set ==j,1], c = ListedColormap(('red', 'green'))(i), label=j)\n",
        "\n",
        "plt.title(\"Logistic Regression (Test Set)\")\n",
        "plt.xlabel(\"Age\")\n",
        "plt.ylabel(\"Estimated Salary\")\n",
        "plt.legend()\n",
        "plt.show()"
      ],
      "execution_count": null,
      "outputs": [
        {
          "output_type": "stream",
          "name": "stderr",
          "text": [
            "*c* argument looks like a single numeric RGB or RGBA sequence, which should be avoided as value-mapping will have precedence in case its length matches with *x* & *y*.  Please use the *color* keyword-argument or provide a 2-D array with a single row if you intend to specify the same RGB or RGBA value for all points.\n",
            "*c* argument looks like a single numeric RGB or RGBA sequence, which should be avoided as value-mapping will have precedence in case its length matches with *x* & *y*.  Please use the *color* keyword-argument or provide a 2-D array with a single row if you intend to specify the same RGB or RGBA value for all points.\n"
          ]
        },
        {
          "output_type": "display_data",
          "data": {
            "image/png": "[encoded data removed]",
            "text/plain": [
              "<Figure size 432x288 with 1 Axes>"
            ]
          },
          "metadata": {
            "needs_background": "light"
          }
        }
      ]
    }
  ]
}