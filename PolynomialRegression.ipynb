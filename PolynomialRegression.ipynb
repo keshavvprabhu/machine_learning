{
  "nbformat": 4,
  "nbformat_minor": 0,
  "metadata": {
    "colab": {
      "name": "PolynomialRegression.ipynb",
      "provenance": [],
      "collapsed_sections": [],
      "authorship_tag": "ABX9TyMNFzaH/su0DPv1WeT44DSL",
      "include_colab_link": true
    },
    "kernelspec": {
      "name": "python3",
      "display_name": "Python 3"
    },
    "language_info": {
      "name": "python"
    }
  },
  "cells": [
    {
      "cell_type": "markdown",
      "metadata": {
        "id": "view-in-github",
        "colab_type": "text"
      },
      "source": [
        "<a href=\"https://colab.research.google.com/github/keshavvprabhu/machine_learning/blob/main/PolynomialRegression.ipynb\" target=\"_parent\"><img src=\"https://colab.research.google.com/assets/colab-badge.svg\" alt=\"Open In Colab\"/></a>"
      ]
    },
    {
      "cell_type": "markdown",
      "metadata": {
        "id": "7U-gVVnB9k2Q"
      },
      "source": [
        "# Polynomial Regression"
      ]
    },
    {
      "cell_type": "markdown",
      "metadata": {
        "id": "60-uvDl9-jm8"
      },
      "source": [
        "## Importing the libraries"
      ]
    },
    {
      "cell_type": "code",
      "metadata": {
        "id": "RNXQsutt9h5p"
      },
      "source": [
        "import numpy as np\n",
        "import pandas as pd\n",
        "import matplotlib.pyplot as plt"
      ],
      "execution_count": 1,
      "outputs": []
    },
    {
      "cell_type": "markdown",
      "metadata": {
        "id": "WRn9wNDz-rb-"
      },
      "source": [
        "## Importing the data"
      ]
    },
    {
      "cell_type": "code",
      "metadata": {
        "id": "66Cg6yOF-u88"
      },
      "source": [
        "dataset = pd.read_csv(\"Position_Salaries.csv\")\n",
        "X = dataset.iloc[:, 1:-1].values\n",
        "y = dataset.iloc[:, -1].values\n"
      ],
      "execution_count": 4,
      "outputs": []
    },
    {
      "cell_type": "markdown",
      "metadata": {
        "id": "rWiBsWfR_PQ2"
      },
      "source": [
        "## Training the Linear Regression Model on the Dataset"
      ]
    },
    {
      "cell_type": "code",
      "metadata": {
        "colab": {
          "base_uri": "https://localhost:8080/"
        },
        "id": "M0E7uKHF_t0j",
        "outputId": "34fae11b-31cc-4b35-c1fc-c55641fb2b7b"
      },
      "source": [
        "from sklearn.linear_model import LinearRegression\n",
        "linear_regressor = LinearRegression()\n",
        "linear_regressor.fit(X, y)\n"
      ],
      "execution_count": 6,
      "outputs": [
        {
          "output_type": "execute_result",
          "data": {
            "text/plain": [
              "LinearRegression(copy_X=True, fit_intercept=True, n_jobs=None, normalize=False)"
            ]
          },
          "metadata": {},
          "execution_count": 6
        }
      ]
    },
    {
      "cell_type": "markdown",
      "metadata": {
        "id": "Zvtfgt7DB1eI"
      },
      "source": [
        "## Training the Polynomial Regression model on the whole Dataset"
      ]
    },
    {
      "cell_type": "code",
      "metadata": {
        "colab": {
          "base_uri": "https://localhost:8080/"
        },
        "id": "UpnrhRBwAd87",
        "outputId": "3da2a41d-e30d-414c-cdbe-24c8e63b942d"
      },
      "source": [
        "from sklearn.preprocessing import PolynomialFeatures\n",
        "polynomial_regressor = PolynomialFeatures(degree=4)\n",
        "X_poly = polynomial_regressor.fit_transform(X)\n",
        "lin_reg_2 = LinearRegression()\n",
        "lin_reg_2.fit(X_poly, y)"
      ],
      "execution_count": 20,
      "outputs": [
        {
          "output_type": "execute_result",
          "data": {
            "text/plain": [
              "LinearRegression(copy_X=True, fit_intercept=True, n_jobs=None, normalize=False)"
            ]
          },
          "metadata": {},
          "execution_count": 20
        }
      ]
    },
    {
      "cell_type": "markdown",
      "metadata": {
        "id": "mVtz00zjCCCf"
      },
      "source": [
        "## Visualizing teh Linear Regressor Results"
      ]
    },
    {
      "cell_type": "code",
      "metadata": {
        "colab": {
          "base_uri": "https://localhost:8080/",
          "height": 295
        },
        "id": "Zy2TCckRCuqg",
        "outputId": "affcc34f-34d0-4ff7-ce94-b4d3fbc89adc"
      },
      "source": [
        "plt.scatter(X,y, color=\"red\") \n",
        "plt.plot(X, linear_regressor.predict(X), color=\"blue\") \n",
        "plt.title(\"Truth or Bluff\") \n",
        "plt.xlabel(\"Position Level\") \n",
        "plt.ylabel(\"Salary\") \n",
        "plt.show()"
      ],
      "execution_count": 10,
      "outputs": [
        {
          "output_type": "display_data",
          "data": {
            "image/png": "[encoded data removed]",
            "text/plain": [
              "<Figure size 432x288 with 1 Axes>"
            ]
          },
          "metadata": {
            "needs_background": "light"
          }
        }
      ]
    },
    {
      "cell_type": "markdown",
      "metadata": {
        "id": "-fVFq_KxDGHn"
      },
      "source": [
        "Visualizing the Polynomial Regressor Results"
      ]
    },
    {
      "cell_type": "code",
      "metadata": {
        "colab": {
          "base_uri": "https://localhost:8080/",
          "height": 295
        },
        "id": "2jjEvKWgDKpj",
        "outputId": "4147524e-4977-4e20-9557-28e0f9d0c115"
      },
      "source": [
        "plt.scatter(X,y, color=\"red\") \n",
        "plt.plot(X, lin_reg_2.predict(X_poly), color=\"blue\") \n",
        "plt.title(\"Truth or Bluff\") \n",
        "plt.xlabel(\"Position Level\") \n",
        "plt.ylabel(\"Salary\") \n",
        "plt.show()"
      ],
      "execution_count": 21,
      "outputs": [
        {
          "output_type": "display_data",
          "data": {
            "image/png": "[encoded data removed]",
            "text/plain": [
              "<Figure size 432x288 with 1 Axes>"
            ]
          },
          "metadata": {
            "needs_background": "light"
          }
        }
      ]
    },
    {
      "cell_type": "markdown",
      "metadata": {
        "id": "20U3fe-TEt70"
      },
      "source": [
        "## Predicting a single observation with Linear Regression"
      ]
    },
    {
      "cell_type": "code",
      "metadata": {
        "colab": {
          "base_uri": "https://localhost:8080/"
        },
        "id": "01cMQAklFUl7",
        "outputId": "f0437805-8b48-4478-d240-2a4499b65a89"
      },
      "source": [
        "linear_regressor.predict([[6.5]])"
      ],
      "execution_count": 25,
      "outputs": [
        {
          "output_type": "execute_result",
          "data": {
            "text/plain": [
              "array([330378.78787879])"
            ]
          },
          "metadata": {},
          "execution_count": 25
        }
      ]
    },
    {
      "cell_type": "code",
      "metadata": {
        "colab": {
          "base_uri": "https://localhost:8080/"
        },
        "id": "EAFe2YAxGF8E",
        "outputId": "2e892381-3248-44d5-d4f8-d81051c3dd8f"
      },
      "source": [
        "lin_reg_2.predict(polynomial_regressor.fit_transform([[6.5]]))"
      ],
      "execution_count": 27,
      "outputs": [
        {
          "output_type": "execute_result",
          "data": {
            "text/plain": [
              "array([158862.45265155])"
            ]
          },
          "metadata": {},
          "execution_count": 27
        }
      ]
    },
    {
      "cell_type": "markdown",
      "metadata": {
        "id": "lasci7XqFjnn"
      },
      "source": [
        ""
      ]
    }
  ]
}